{
 "cells": [
  {
   "cell_type": "code",
   "execution_count": 1,
   "metadata": {},
   "outputs": [],
   "source": [
    "import sys\n",
    "import os\n",
    "sys.path.append(sys.path.append(os.path.abspath('../Vecpy/Vecpy')))"
   ]
  },
  {
   "cell_type": "code",
   "execution_count": 2,
   "metadata": {},
   "outputs": [],
   "source": [
    "import load\n",
    "import data_structures\n",
    "import graphics"
   ]
  },
  {
   "cell_type": "markdown",
   "metadata": {},
   "source": [
    "## Data loading\n",
    "### for one field:"
   ]
  },
  {
   "cell_type": "code",
   "execution_count": 3,
   "metadata": {},
   "outputs": [
    {
     "name": "stdout",
     "output_type": "stream",
     "text": [
      "while constructing a Python object\n",
      "cannot find 'jobfile' in the module '__main__'\n",
      "  in \"/Users/User/Documents/University/Masters/Turb_Lab/wind tunnel data/Run10/output1/B00050_ws[64, 64].yaml\", line 1, column 1\n",
      "Algorithm source: Tomers\n",
      "window size in the X direction: 64\n",
      "window size in the Y direction: 64\n",
      "Frame name: 00050\n",
      "images directory: /sd/sd/sd/sd\n",
      "dt in seconds: 0.00001\n",
      "length scale to meter: 0.0012\n"
     ]
    }
   ],
   "source": [
    "# npz file field\n",
    "path = '/Users/User/Documents/University/Masters/Turb_Lab/wind tunnel data/Run10/output1/'\n",
    "file_name = 'B00050_ws[64, 64].npz'\n",
    "field1 = load.load_field_from_npz(file_name,path)"
   ]
  },
  {
   "cell_type": "code",
   "execution_count": 5,
   "metadata": {},
   "outputs": [],
   "source": [
    "# vec file field\n",
    "path = '/Users/User/Documents/University/Masters/Turb_Lab/PIV/piv_algorithm/Compare/Case_A/insight/'\n",
    "file_name = 'Case_a_insight.vec'\n",
    "field2 = load.load_field_from_vec(file_name,path)"
   ]
  },
  {
   "cell_type": "markdown",
   "metadata": {},
   "source": [
    "### For runs:"
   ]
  },
  {
   "cell_type": "code",
   "execution_count": 7,
   "metadata": {},
   "outputs": [
    {
     "ename": "NameError",
     "evalue": "name 'directory_path' is not defined",
     "output_type": "error",
     "traceback": [
      "\u001b[1;31m---------------------------------------------------------------------------\u001b[0m",
      "\u001b[1;31mNameError\u001b[0m                                 Traceback (most recent call last)",
      "\u001b[1;32m<ipython-input-7-2e4f55082663>\u001b[0m in \u001b[0;36m<module>\u001b[1;34m()\u001b[0m\n\u001b[0;32m      2\u001b[0m \u001b[0mpath\u001b[0m \u001b[1;33m=\u001b[0m \u001b[1;34m'/Users/User/Documents/University/Masters/Turb_Lab/wind tunnel data/Run10/output1/'\u001b[0m\u001b[1;33m\u001b[0m\u001b[0m\n\u001b[0;32m      3\u001b[0m \u001b[0mtype_ending\u001b[0m\u001b[1;33m=\u001b[0m\u001b[1;34m'ws[64, 64]'\u001b[0m\u001b[1;33m\u001b[0m\u001b[0m\n\u001b[1;32m----> 4\u001b[1;33m \u001b[0mrun1\u001b[0m \u001b[1;33m=\u001b[0m \u001b[0mload\u001b[0m\u001b[1;33m.\u001b[0m\u001b[0mload_npz_run_from_directory\u001b[0m\u001b[1;33m(\u001b[0m\u001b[0mdirectory_path\u001b[0m\u001b[1;33m,\u001b[0m\u001b[0mtype_ending\u001b[0m\u001b[1;33m)\u001b[0m\u001b[1;33m\u001b[0m\u001b[0m\n\u001b[0m",
      "\u001b[1;31mNameError\u001b[0m: name 'directory_path' is not defined"
     ]
    }
   ],
   "source": [
    "# npz files run\n",
    "directory_path = '/Users/User/Documents/University/Masters/Turb_Lab/wind tunnel data/Run10/output1/'\n",
    "type_ending='ws[64, 64]'\n",
    "run1 = load.load_npz_run_from_directory(directory_path,type_ending)"
   ]
  },
  {
   "cell_type": "code",
   "execution_count": null,
   "metadata": {},
   "outputs": [],
   "source": []
  }
 ],
 "metadata": {
  "kernelspec": {
   "display_name": "Python 3",
   "language": "python",
   "name": "python3"
  },
  "language_info": {
   "codemirror_mode": {
    "name": "ipython",
    "version": 3
   },
   "file_extension": ".py",
   "mimetype": "text/x-python",
   "name": "python",
   "nbconvert_exporter": "python",
   "pygments_lexer": "ipython3",
   "version": "3.6.3"
  }
 },
 "nbformat": 4,
 "nbformat_minor": 2
}
